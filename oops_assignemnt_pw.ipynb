{
 "cells": [
  {
   "cell_type": "code",
   "execution_count": 4,
   "id": "ac22018e-03d5-44b7-879d-b469706c988d",
   "metadata": {},
   "outputs": [],
   "source": [
    "###1 Create a parent class Animal with a method speak() that prints a generic message. Create a child class Dog \n",
    "#that overrides the speak() method to print \"Bark!\"."
   ]
  },
  {
   "cell_type": "code",
   "execution_count": 16,
   "id": "d30a56c3-0262-4510-959b-e708cb0f712b",
   "metadata": {},
   "outputs": [],
   "source": [
    "class Animal():\n",
    "    def speak(self):\n",
    "        print(\"Anima's Sound\")\n",
    "class Dog(Animal):\n",
    "    def speak(self):\n",
    "        print(\"Dog's is Barking\")"
   ]
  },
  {
   "cell_type": "code",
   "execution_count": 17,
   "id": "ac14c952-1fa3-4f77-93a4-0692a3c84a4d",
   "metadata": {},
   "outputs": [],
   "source": [
    "dog1=Dog()"
   ]
  },
  {
   "cell_type": "code",
   "execution_count": 18,
   "id": "c02fdb61-874c-40b6-bc00-50912c2db366",
   "metadata": {},
   "outputs": [
    {
     "name": "stdout",
     "output_type": "stream",
     "text": [
      "Dog's is Barking\n"
     ]
    }
   ],
   "source": [
    "dog1.speak()"
   ]
  },
  {
   "cell_type": "code",
   "execution_count": 19,
   "id": "2dd62430-3c1c-468c-bfd3-6f11801f3eb5",
   "metadata": {},
   "outputs": [],
   "source": [
    "#2. Write a program to create an abstract class Shape with a method area(). Derive classes Circle and Rectangle\n",
    "#from it and implement the area() method in both."
   ]
  },
  {
   "cell_type": "code",
   "execution_count": 78,
   "id": "ebbc0223-cfc2-4d3f-9072-9b6003cbe552",
   "metadata": {},
   "outputs": [],
   "source": [
    "class Shape():\n",
    "    def area(self):\n",
    "        pass\n",
    "class Rectangle(Shape):\n",
    "    def __init__(self,l,b):\n",
    "        self.l=l\n",
    "        self.b=b\n",
    "    def area(self):\n",
    "        return self.l*self.b\n",
    "class Circle(Shape):\n",
    "    def __init__(self,r):\n",
    "        self.r=r\n",
    "    def area(self):\n",
    "        area=(22/7)*(self.r*self.r)\n",
    "        return area\n",
    "        "
   ]
  },
  {
   "cell_type": "code",
   "execution_count": 79,
   "id": "30a01fdf-e347-4c1e-a3d3-9e24a524b44b",
   "metadata": {},
   "outputs": [],
   "source": [
    "a=Circle(5)"
   ]
  },
  {
   "cell_type": "code",
   "execution_count": 80,
   "id": "64ae86d8-7a1e-46a8-a4ac-8819b8ad3e72",
   "metadata": {},
   "outputs": [
    {
     "data": {
      "text/plain": [
       "78.57142857142857"
      ]
     },
     "execution_count": 80,
     "metadata": {},
     "output_type": "execute_result"
    }
   ],
   "source": [
    "a.area()"
   ]
  },
  {
   "cell_type": "code",
   "execution_count": 81,
   "id": "027ea687-308b-4125-b862-35d65268f705",
   "metadata": {},
   "outputs": [],
   "source": [
    "###3. Implement a multi-level inheritance scenario where a class Vehicle has an attribute type. Derive a class Car\n",
    "#and further derive a class ElectricCar that adds a battery attribute."
   ]
  },
  {
   "cell_type": "code",
   "execution_count": 100,
   "id": "b382b45a-cbb1-4a07-85af-d7d46d62eb21",
   "metadata": {},
   "outputs": [
    {
     "name": "stdout",
     "output_type": "stream",
     "text": [
      "Vehicle configuration is Car , Sports , Lithium_Battery\n"
     ]
    }
   ],
   "source": [
    "###3. Implement a multi-level inheritance scenario where a class Vehicle has an attribute type. Derive a class Car\n",
    "#and further derive a class ElectricCar that adds a battery attribute.\n",
    "class Vehicle():\n",
    "    def __init__(self,Type):\n",
    "        self.type=Type\n",
    "\n",
    "class Car(Vehicle):\n",
    "    def __init__(self,Type,variant):\n",
    "        super().__init__(Type)\n",
    "        self.variant=variant\n",
    "class ElectricCar(Car):\n",
    "    def __init__(self,Type,variant,battery):\n",
    "        super().__init__(Type,variant)\n",
    "        self.battery=battery\n",
    "    def confi(self):\n",
    "        print(f\"Vehicle configuration is {self.type} , {self.variant} , {self.battery}\")\n",
    "tesla=ElectricCar(\"Car\",\"Sports\",\"Lithium_Battery\")\n",
    "tesla.confi()\n",
    "        "
   ]
  },
  {
   "cell_type": "code",
   "execution_count": 108,
   "id": "25f60672-e41d-41f5-9ef5-16d287426746",
   "metadata": {},
   "outputs": [],
   "source": [
    "#4. Demonstrate polymorphism by creating a base class Bird with a method fly(). Create two derived classes\n",
    "#Sparrow and Penguin that override the fly() method.\n"
   ]
  },
  {
   "cell_type": "code",
   "execution_count": 114,
   "id": "771ea6c6-11ac-4d8a-b573-c9ff9f5476cc",
   "metadata": {},
   "outputs": [
    {
     "name": "stdout",
     "output_type": "stream",
     "text": [
      "Sparrow can fly\n",
      "Penguin can fly\n"
     ]
    }
   ],
   "source": [
    "class Bird():\n",
    "    def fly(self):\n",
    "        print(\"Bird can fly\")\n",
    "\n",
    "class Sparrow(Bird):\n",
    "    def fly(self):\n",
    "        print(\"Sparrow can fly\")\n",
    "class Penguin(Bird):\n",
    "    def fly(self):\n",
    "        print(\"Penguin can fly\")\n",
    "bird1=Sparrow()\n",
    "bird2=Penguin()\n",
    "\n",
    "bird=[bird1,bird2]\n",
    "for bird in bird:\n",
    "    bird.fly()"
   ]
  },
  {
   "cell_type": "code",
   "execution_count": 116,
   "id": "d5ce738c-2a31-456b-b16f-cea7d67189d1",
   "metadata": {},
   "outputs": [],
   "source": [
    "##5. Write a program to demonstrate encapsulation by creating a class BankAccount with private attributes\n",
    "##balance and methods to deposit, withdraw, and check balance."
   ]
  },
  {
   "cell_type": "code",
   "execution_count": 127,
   "id": "b40b3e6d-a4c8-4444-aff1-715c7eebedcc",
   "metadata": {},
   "outputs": [],
   "source": [
    "class BankAccount():\n",
    "    def __init__(self,Initial_balance=0):\n",
    "        self.__balance=Initial_balance\n",
    "    def diposit(self,Amount):\n",
    "        if Amount>0:\n",
    "            self.__balance+=Amount\n",
    "            print(f\"Diposited amount is {Amount}\")\n",
    "        else:\n",
    "            print(\"Amount cant be negative\")\n",
    "\n",
    "    def withdraw(self,Amount):\n",
    "        if Amount>0:\n",
    "            self.__balance-=Amount\n",
    "            print(f\"Withdrawl amount is {Amount}\")\n",
    "        else:\n",
    "            print(\"Amount cant be negative\")\n",
    "    def Check_Balance(self):\n",
    "        print(self.__balance)\n",
    "        \n",
    "            "
   ]
  },
  {
   "cell_type": "code",
   "execution_count": 128,
   "id": "1eb04451-313f-4312-b6cf-0fc84f37d1cd",
   "metadata": {},
   "outputs": [],
   "source": [
    "debo_acc=BankAccount()"
   ]
  },
  {
   "cell_type": "code",
   "execution_count": 129,
   "id": "baaa948a-f538-4caf-a070-88844afbf462",
   "metadata": {},
   "outputs": [
    {
     "name": "stdout",
     "output_type": "stream",
     "text": [
      "Diposited amount is 50000\n"
     ]
    }
   ],
   "source": [
    "debo_acc.diposit(50000)"
   ]
  },
  {
   "cell_type": "code",
   "execution_count": 130,
   "id": "97804a62-f51e-4421-9c91-7e520bfaf7ad",
   "metadata": {},
   "outputs": [
    {
     "name": "stdout",
     "output_type": "stream",
     "text": [
      "Withdrawl amount is 10000\n"
     ]
    }
   ],
   "source": [
    "debo_acc.withdraw(10000)"
   ]
  },
  {
   "cell_type": "code",
   "execution_count": 131,
   "id": "1a8595e1-c402-4702-96c3-3bf72d364957",
   "metadata": {},
   "outputs": [
    {
     "name": "stdout",
     "output_type": "stream",
     "text": [
      "40000\n"
     ]
    }
   ],
   "source": [
    "debo_acc.Check_Balance()"
   ]
  },
  {
   "cell_type": "code",
   "execution_count": 1,
   "id": "cf9e3c51-7d58-40d5-bb40-7c98c584fc05",
   "metadata": {},
   "outputs": [],
   "source": [
    "#6. Demonstrate runtime polymorphism using a method play() in a base class Instrument. Derive classes Guitar\n",
    "#and Piano that implement their own version of play()."
   ]
  },
  {
   "cell_type": "code",
   "execution_count": 11,
   "id": "1e3ff1aa-4b31-40ff-9419-3b47f3da8515",
   "metadata": {},
   "outputs": [
    {
     "name": "stdout",
     "output_type": "stream",
     "text": [
      "Guitar is making sound\n",
      "Piano is making sound\n"
     ]
    }
   ],
   "source": [
    "from abc import ABC,abstractmethod\n",
    "\n",
    "class instrument():\n",
    "    @abstractmethod   \n",
    "    def play(self):\n",
    "        pass\n",
    "class guitar(instrument):\n",
    "    def play(self):\n",
    "        print(\"Guitar is making sound\")\n",
    "class piano(instrument):\n",
    "    def play(self):\n",
    "        print(\"Piano is making sound\")\n",
    "\n",
    "g_sound=guitar()\n",
    "p_sound=piano()\n",
    "\n",
    "sound_list=[g_sound,p_sound]\n",
    "for i in sound_list:\n",
    "    i.play()    "
   ]
  },
  {
   "cell_type": "code",
   "execution_count": 12,
   "id": "18e2ec13-9eb8-4fe7-b866-8be27f5a4245",
   "metadata": {},
   "outputs": [],
   "source": [
    "#7. Create a class MathOperations with a class method add_numbers() to add two numbers and a static\n",
    "#method subtract_numbers() to subtract two numbers."
   ]
  },
  {
   "cell_type": "code",
   "execution_count": 41,
   "id": "87501c81-d457-44ce-8b02-b96ae4d809c6",
   "metadata": {},
   "outputs": [],
   "source": [
    "class MathOperation():\n",
    "    @classmethod\n",
    "    def add(cls,a,b):\n",
    "        return a+b\n",
    "    @staticmethod\n",
    "    def substract(a,b):\n",
    "        return a-b"
   ]
  },
  {
   "cell_type": "code",
   "execution_count": 43,
   "id": "b73dbed5-981f-4ee9-b154-17189bf039a3",
   "metadata": {},
   "outputs": [
    {
     "data": {
      "text/plain": [
       "9"
      ]
     },
     "execution_count": 43,
     "metadata": {},
     "output_type": "execute_result"
    }
   ],
   "source": [
    "MathOperation.add(5,4)"
   ]
  },
  {
   "cell_type": "code",
   "execution_count": 44,
   "id": "85a55225-8b55-4d67-8d5e-a6d829c95cc4",
   "metadata": {},
   "outputs": [
    {
     "data": {
      "text/plain": [
       "1"
      ]
     },
     "execution_count": 44,
     "metadata": {},
     "output_type": "execute_result"
    }
   ],
   "source": [
    "MathOperation.substract(5,4)"
   ]
  },
  {
   "cell_type": "code",
   "execution_count": null,
   "id": "0c331d2b-102f-45e6-a176-4bffd1db756f",
   "metadata": {},
   "outputs": [],
   "source": [
    "#8. Implement a class Person with a class method to count the total number of persons created."
   ]
  },
  {
   "cell_type": "code",
   "execution_count": 47,
   "id": "34bd7706-b030-4f00-b49a-2a2ce5474b62",
   "metadata": {},
   "outputs": [
    {
     "name": "stdout",
     "output_type": "stream",
     "text": [
      "Total persons created: 3\n"
     ]
    }
   ],
   "source": [
    "class Person:\n",
    "    # Class variable to keep track of number of persons created\n",
    "    count = 0\n",
    "\n",
    "    def __init__(self, name):\n",
    "        self.name = name\n",
    "        # Increment count each time a new person is created\n",
    "        Person.count += 1\n",
    "\n",
    "    @classmethod\n",
    "    def total_persons(cls):\n",
    "        \"\"\"Return the total number of Person instances created.\"\"\"\n",
    "        return cls.count\n",
    "\n",
    "# Example usage:\n",
    "p1 = Person(\"Alice\")\n",
    "p2 = Person(\"Bob\")\n",
    "p3 = Person(\"Charlie\")\n",
    "\n",
    "print(\"Total persons created:\", Person.total_persons())\n",
    "# Output: Total persons created: 3\n"
   ]
  },
  {
   "cell_type": "code",
   "execution_count": null,
   "id": "e2652d8f-9871-4e9d-8a4e-107f6c8c0208",
   "metadata": {},
   "outputs": [],
   "source": [
    "#9. Write a class Fraction with attributes numerator and denominator. Override the str method to display the\n",
    "#fraction as \"numerator/denominator\"."
   ]
  },
  {
   "cell_type": "code",
   "execution_count": 48,
   "id": "96fface1-fb0c-4336-8afd-91167b293feb",
   "metadata": {},
   "outputs": [
    {
     "name": "stdout",
     "output_type": "stream",
     "text": [
      "3/4\n"
     ]
    }
   ],
   "source": [
    "class Fraction:\n",
    "    def __init__(self, numerator, denominator):\n",
    "        self.numerator = numerator\n",
    "        self.denominator = denominator\n",
    "\n",
    "    def __str__(self):\n",
    "        return f\"{self.numerator}/{self.denominator}\"\n",
    "\n",
    "# Example usage:\n",
    "frac = Fraction(3, 4)\n",
    "print(frac)  # Output: 3/4\n"
   ]
  },
  {
   "cell_type": "code",
   "execution_count": 49,
   "id": "d89bcc8d-2b3d-4aa2-8e96-b1c558c20664",
   "metadata": {},
   "outputs": [],
   "source": [
    "#10. Demonstrate operator overloading by creating a class Vector and overriding the add method to add two\n",
    "#vectors."
   ]
  },
  {
   "cell_type": "code",
   "execution_count": 50,
   "id": "65cf5250-45fd-49fa-9bf4-89c582ba39db",
   "metadata": {},
   "outputs": [
    {
     "name": "stdout",
     "output_type": "stream",
     "text": [
      "(4, 6)\n"
     ]
    }
   ],
   "source": [
    "class Vector:\n",
    "    def __init__(self, x, y):\n",
    "        # Initialize a vector with x and y components.\n",
    "        self.x = x\n",
    "        self.y = y\n",
    "\n",
    "    def __add__(self, other):\n",
    "        # This method is called when you use the + operator.\n",
    "        # It creates a new Vector by adding the x and y values of two vectors.\n",
    "        return Vector(self.x + other.x, self.y + other.y)\n",
    "\n",
    "    def __str__(self):\n",
    "        # This method defines how to display the vector as a string.\n",
    "        return f\"({self.x}, {self.y})\"\n",
    "\n",
    "# Example usage:\n",
    "v1 = Vector(1, 2)\n",
    "v2 = Vector(3, 4)\n",
    "v3 = v1 + v2  # This calls v1.__add__(v2)\n",
    "print(v3)     # Output: (4, 6)\n"
   ]
  },
  {
   "cell_type": "code",
   "execution_count": 51,
   "id": "6135ce3e-5ace-4d62-90ab-41770066aa37",
   "metadata": {},
   "outputs": [],
   "source": [
    "#11. Create a class Person with attributes name and age. Add a method greet() that prints \"Hello, my name is\n",
    "#{name} and I am {age} years old.\""
   ]
  },
  {
   "cell_type": "code",
   "execution_count": 52,
   "id": "c24108cc-4a21-4198-b21f-f4d350850625",
   "metadata": {},
   "outputs": [
    {
     "name": "stdout",
     "output_type": "stream",
     "text": [
      "Hello, my name is Alice and I am 25 years old.\n",
      "Hello, my name is Bob and I am 30 years old.\n"
     ]
    }
   ],
   "source": [
    "class Person:\n",
    "    def __init__(self, name, age):\n",
    "        # Initialize name and age attributes\n",
    "        self.name = name\n",
    "        self.age = age\n",
    "\n",
    "    def greet(self):\n",
    "        # Print a greeting message\n",
    "        print(f\"Hello, my name is {self.name} and I am {self.age} years old.\")\n",
    "\n",
    "# Example usage:\n",
    "p1 = Person(\"Alice\", 25)\n",
    "p1.greet()  # Output: Hello, my name is Alice and I am 25 years old.\n",
    "\n",
    "p2 = Person(\"Bob\", 30)\n",
    "p2.greet()  # Output: Hello, my name is Bob and I am 30 years old.\n"
   ]
  },
  {
   "cell_type": "code",
   "execution_count": 53,
   "id": "9c24953f-b760-42f2-ba02-c8887d9e294b",
   "metadata": {},
   "outputs": [],
   "source": [
    "#12. Implement a class Student with attributes name and grades. Create a method average_grade() to compute\n",
    "#the average of the grades."
   ]
  },
  {
   "cell_type": "code",
   "execution_count": 54,
   "id": "5215d122-7a9e-4cd6-87b6-68df9520b31d",
   "metadata": {},
   "outputs": [
    {
     "name": "stdout",
     "output_type": "stream",
     "text": [
      "Alice's average grade is 89.0.\n",
      "Bob's average grade is 77.5.\n"
     ]
    }
   ],
   "source": [
    "class Student:\n",
    "    def __init__(self, name, grades):\n",
    "        # Initialize name and grades attributes.\n",
    "        self.name = name\n",
    "        self.grades = grades\n",
    "\n",
    "    def average_grade(self):\n",
    "        # Check to avoid division by zero.\n",
    "        if not self.grades:\n",
    "            return 0\n",
    "        # Compute and return the average of the grades.\n",
    "        return sum(self.grades) / len(self.grades)\n",
    "\n",
    "# Example usage:\n",
    "student1 = Student(\"Alice\", [90, 85, 92])\n",
    "print(f\"{student1.name}'s average grade is {student1.average_grade()}.\")\n",
    "\n",
    "student2 = Student(\"Bob\", [75, 80, 70, 85])\n",
    "print(f\"{student2.name}'s average grade is {student2.average_grade()}.\")\n"
   ]
  },
  {
   "cell_type": "code",
   "execution_count": null,
   "id": "164c0d29-2d8c-4fc6-ade1-0a6a9ec5874d",
   "metadata": {},
   "outputs": [],
   "source": [
    "#13. Create a class Rectangle with methods set_dimensions() to set the dimensions and area() to calculate the\n",
    "#area."
   ]
  },
  {
   "cell_type": "code",
   "execution_count": 55,
   "id": "1fbba722-738b-4ecc-8238-b5d303671aeb",
   "metadata": {},
   "outputs": [
    {
     "name": "stdout",
     "output_type": "stream",
     "text": [
      "Area of the rectangle: 20\n"
     ]
    }
   ],
   "source": [
    "class Rectangle:\n",
    "    def __init__(self):\n",
    "        # Initialize dimensions to zero\n",
    "        self.width = 0\n",
    "        self.height = 0\n",
    "\n",
    "    def set_dimensions(self, width, height):\n",
    "        # Set the width and height of the rectangle\n",
    "        self.width = width\n",
    "        self.height = height\n",
    "\n",
    "    def area(self):\n",
    "        # Calculate and return the area of the rectangle\n",
    "        return self.width * self.height\n",
    "\n",
    "# Example usage:\n",
    "rect = Rectangle()\n",
    "rect.set_dimensions(4, 5)\n",
    "print(\"Area of the rectangle:\", rect.area())  # Output: Area of the rectangle: 20\n"
   ]
  },
  {
   "cell_type": "code",
   "execution_count": 56,
   "id": "75da941a-2c2a-4de0-9284-d64f31766696",
   "metadata": {},
   "outputs": [],
   "source": [
    "#14. Create a class Employee with a method calculate_salary() that computes the salary based on hours worked\n",
    "#and hourly rate. Create a derived class Manager that adds a bonus to the salary."
   ]
  },
  {
   "cell_type": "code",
   "execution_count": 57,
   "id": "54ab51a0-95a7-48e4-97ec-4e4b20a24e1e",
   "metadata": {},
   "outputs": [
    {
     "name": "stdout",
     "output_type": "stream",
     "text": [
      "Employee Salary: 800\n",
      "Manager Salary: 1300\n"
     ]
    }
   ],
   "source": [
    "class Employee:\n",
    "    def __init__(self, hours_worked, hourly_rate):\n",
    "        self.hours_worked = hours_worked\n",
    "        self.hourly_rate = hourly_rate\n",
    "\n",
    "    def calculate_salary(self):\n",
    "        \"\"\"Compute the base salary as hours worked times hourly rate.\"\"\"\n",
    "        return self.hours_worked * self.hourly_rate\n",
    "\n",
    "class Manager(Employee):\n",
    "    def __init__(self, hours_worked, hourly_rate, bonus):\n",
    "        # Initialize the base Employee attributes\n",
    "        super().__init__(hours_worked, hourly_rate)\n",
    "        self.bonus = bonus\n",
    "\n",
    "    def calculate_salary(self):\n",
    "        \"\"\"Compute the manager's salary by adding a bonus to the base salary.\"\"\"\n",
    "        base_salary = super().calculate_salary()  # Call the base class method\n",
    "        return base_salary + self.bonus\n",
    "\n",
    "# Example usage:\n",
    "emp = Employee(40, 20)    # 40 hours at $20/hour\n",
    "mgr = Manager(40, 20, 500)  # Same as Employee, but with a $500 bonus\n",
    "\n",
    "print(\"Employee Salary:\", emp.calculate_salary())   # Output: Employee Salary: 800\n",
    "print(\"Manager Salary:\", mgr.calculate_salary())      # Output: Manager Salary: 1300\n"
   ]
  },
  {
   "cell_type": "code",
   "execution_count": 58,
   "id": "aaee6369-3706-4ff4-972e-26f1ca25a207",
   "metadata": {},
   "outputs": [],
   "source": [
    "#15. Create a class Product with attributes name, price, and quantity. Implement a method total_price() that\n",
    "#calculates the total price of the product"
   ]
  },
  {
   "cell_type": "code",
   "execution_count": 59,
   "id": "716b22de-94f9-437b-a2ce-3f2f0daca8a1",
   "metadata": {},
   "outputs": [
    {
     "name": "stdout",
     "output_type": "stream",
     "text": [
      "Total price: 3000\n"
     ]
    }
   ],
   "source": [
    "class Product:\n",
    "    def __init__(self, name, price, quantity):\n",
    "        # Initialize the product's name, price, and quantity.\n",
    "        self.name = name\n",
    "        self.price = price\n",
    "        self.quantity = quantity\n",
    "\n",
    "    def total_price(self):\n",
    "        # Calculate the total price by multiplying price and quantity.\n",
    "        return self.price * self.quantity\n",
    "\n",
    "# Example usage:\n",
    "product = Product(\"Laptop\", 1000, 3)\n",
    "print(\"Total price:\", product.total_price())  # Output: Total price: 3000\n"
   ]
  },
  {
   "cell_type": "code",
   "execution_count": 60,
   "id": "0c42c7cb-8913-4427-9a79-fdade9efd3a7",
   "metadata": {},
   "outputs": [],
   "source": [
    "#16. Create a class Animal with an abstract method sound(). Create two derived classes Cow and Sheep that\n",
    "#implement the sound() method."
   ]
  },
  {
   "cell_type": "code",
   "execution_count": 62,
   "id": "75bf90e9-8036-4104-b101-6f81e0105027",
   "metadata": {},
   "outputs": [
    {
     "name": "stdout",
     "output_type": "stream",
     "text": [
      "Moo\n",
      "Baa\n"
     ]
    }
   ],
   "source": [
    "from abc import ABC, abstractmethod\n",
    "\n",
    "class Animal(ABC):\n",
    "    @abstractmethod\n",
    "    def sound(self):\n",
    "        \"\"\"Abstract method. Derived classes must implement this method.\"\"\"\n",
    "        pass\n",
    "\n",
    "class Cow(Animal):\n",
    "    def sound(self):\n",
    "        print(\"Moo\")\n",
    "\n",
    "class Sheep(Animal):\n",
    "    def sound(self):\n",
    "        print(\"Baa\")\n",
    "\n",
    "# Example usage:\n",
    "animals = [Cow(), Sheep()]\n",
    "for animal in animals:\n",
    "    animal.sound()\n"
   ]
  },
  {
   "cell_type": "code",
   "execution_count": 64,
   "id": "b991fc80-679b-40e7-bf5c-d4e38f475d01",
   "metadata": {},
   "outputs": [],
   "source": [
    "#17. Create a class Book with attributes title, author, and year_published. Add a method get_book_info() that\n",
    "#returns a formatted string with the book's details."
   ]
  },
  {
   "cell_type": "code",
   "execution_count": 63,
   "id": "b20a2a0d-f99d-435c-9c6c-f1ff7d8268a1",
   "metadata": {},
   "outputs": [
    {
     "name": "stdout",
     "output_type": "stream",
     "text": [
      "'1984' by George Orwell (Published: 1949)\n"
     ]
    }
   ],
   "source": [
    "class Book:\n",
    "    def __init__(self, title, author, year_published):\n",
    "        self.title = title\n",
    "        self.author = author\n",
    "        self.year_published = year_published\n",
    "\n",
    "    def get_book_info(self):\n",
    "        \"\"\"Return a formatted string with the book's details.\"\"\"\n",
    "        return f\"'{self.title}' by {self.author} (Published: {self.year_published})\"\n",
    "\n",
    "# Example usage:\n",
    "book = Book(\"1984\", \"George Orwell\", 1949)\n",
    "print(book.get_book_info())\n"
   ]
  },
  {
   "cell_type": "code",
   "execution_count": 65,
   "id": "a215b385-89cb-42df-9c37-7a474dcb03af",
   "metadata": {},
   "outputs": [],
   "source": [
    "#18. Create a class House with attributes address and price. Create a derived class Mansion that adds an\n",
    "#attribute number_of_rooms."
   ]
  },
  {
   "cell_type": "code",
   "execution_count": 66,
   "id": "11d8b5c2-0209-4e39-a403-89d432424f8b",
   "metadata": {},
   "outputs": [
    {
     "name": "stdout",
     "output_type": "stream",
     "text": [
      "House located at 123 Main St priced at $250000\n",
      "Mansion located at 456 Grand Ave priced at $5000000 with 10 rooms\n"
     ]
    }
   ],
   "source": [
    "class House:\n",
    "    def __init__(self, address, price):\n",
    "        self.address = address\n",
    "        self.price = price\n",
    "\n",
    "    def __str__(self):\n",
    "        return f\"House located at {self.address} priced at ${self.price}\"\n",
    "\n",
    "class Mansion(House):\n",
    "    def __init__(self, address, price, number_of_rooms):\n",
    "        # Initialize the base House attributes\n",
    "        super().__init__(address, price)\n",
    "        self.number_of_rooms = number_of_rooms\n",
    "\n",
    "    def __str__(self):\n",
    "        return f\"Mansion located at {self.address} priced at ${self.price} with {self.number_of_rooms} rooms\"\n",
    "\n",
    "# Example usage:\n",
    "house = House(\"123 Main St\", 250000)\n",
    "mansion = Mansion(\"456 Grand Ave\", 5000000, 10)\n",
    "\n",
    "print(house)      # Output: House located at 123 Main St priced at $250000\n",
    "print(mansion)    # Output: Mansion located at 456 Grand Ave priced at $5000000 with 10 rooms\n"
   ]
  },
  {
   "cell_type": "code",
   "execution_count": null,
   "id": "7ad75f2d-63e6-45ba-9c61-86b2631ed7b4",
   "metadata": {},
   "outputs": [],
   "source": []
  }
 ],
 "metadata": {
  "kernelspec": {
   "display_name": "Python 3 (ipykernel)",
   "language": "python",
   "name": "python3"
  },
  "language_info": {
   "codemirror_mode": {
    "name": "ipython",
    "version": 3
   },
   "file_extension": ".py",
   "mimetype": "text/x-python",
   "name": "python",
   "nbconvert_exporter": "python",
   "pygments_lexer": "ipython3",
   "version": "3.13.0"
  }
 },
 "nbformat": 4,
 "nbformat_minor": 5
}
